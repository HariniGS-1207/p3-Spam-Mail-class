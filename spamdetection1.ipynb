import pandas as pd
import numpy as np
data=pd.read_csv("spam.csv", encoding="latin-1")
data.head()
data.columns
data.drop(['Unnamed: 2', 'Unnamed: 3', 'Unnamed: 4'], axis=1, inplace=True)
data.head()
data['class']=data['class'].map({'ham':0, 'spam':1})
data.head()
from sklearn.feature_extraction.text import CountVectorizer
from sklearn.model_selection import train_test_split
X=data['message']
y=data['class']
X.shape
y.shape
data.isnull.sum()
cv=CountVectorizer()
X=cv.fit_transform(X)
x_train, x_test,y_train, y_test=train_test_split(X,y, test_size=0.2, random_state=42)
x_train.shape
x_test.shape
from sklearn.naive_bayes import MultinomialNB
model=MultinomialNB()
model.fit(x_train, y_train)
model.score(x_test, y_test)
msg="You Won 500$"
data = [msg]
vect = cv.transform(data).toarray()
my_prediction = model.predict(vect)
vect
import pickle
pickle.dump(model, open('spam.pkl','wb'))
model1 = pickle.load(open('spam.pkl','rb'))
import pickle
pickle.dump(cv, open('vec.pkl','wb'))
#model1 = pickle.load(open('spam.pkl','rb'))
